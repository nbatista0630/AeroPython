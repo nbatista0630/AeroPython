{
 "metadata": {
  "name": "",
  "signature": "sha256:0c3fa8428d5bd9c1108de604cfc597191895bb34128cf40be57da19b694a16f2"
 },
 "nbformat": 3,
 "nbformat_minor": 0,
 "worksheets": [
  {
   "cells": [
    {
     "cell_type": "heading",
     "level": 6,
     "metadata": {},
     "source": [
      "Content under Creative Commons Attribution license CC-BY 4.0, code under MIT license (c)2015 L.A. Barba, Pi-Yueh Chuang."
     ]
    },
    {
     "cell_type": "heading",
     "level": 1,
     "metadata": {},
     "source": [
      "2D Multi-element airfoil"
     ]
    },
    {
     "cell_type": "markdown",
     "metadata": {},
     "source": [
      "This is your [_AeroPython_](https://github.com/barbagroup/AeroPython) assignment for the fourth course module, titled **\"Vortex-panel method for lifting bodies.\"**"
     ]
    },
    {
     "cell_type": "heading",
     "level": 2,
     "metadata": {},
     "source": [
      "Problem description"
     ]
    },
    {
     "cell_type": "markdown",
     "metadata": {},
     "source": [
      "In this assignment, you will calculate the pressure coefficient on a multi-element wing section, consisting of a *main airfoil* and an *external-airfoil flap*. This test is from Williams (1973), who obtained a beautiful theoretical solution using the techniques of conformal mapping.\n",
      "\n",
      "To complete the assignment, you will have to extend the 2D vortex-source panel method and the codes you learned in [Lesson 11](http://nbviewer.ipython.org/github/barbagroup/AeroPython/blob/master/lessons/11_Lesson11_vortexSourcePanelMethod.ipynb) of *AeroPython*.\n",
      "\n",
      "The profile of the wing section looks like this, with flap extended:\n",
      "<center> <img src=\"resources/MultiElementAirfoil.png\" width=\"500\"> </center>\n",
      "\n",
      "We provide CSV files with the $x$ and $y$ coordinates for the end nodes of each panel; these files are in the `resources` directory of our GitHub repository. The files have the following naming convention, where `***` represents the value of `N`, the number of panels: `MainFoil_N=***.csv`, `FlapFoil_N=***.csv`.\n",
      "\n",
      "You can use fewer panels for debugging while developing your codes and then use more panels for more serious calculations when answering the questions in this assignment.\n",
      "\n",
      "There are also two files named `Cp_Main_theoretical.csv` and `Cp_Flap_theoretical.csv` containing the throretical values of pressure coefficient versus $x$-coordinates.\n",
      "\n",
      "The theoretical lift and drag force for potential flow over this 2D wing section with zero angle of attack are $3.7386$ and $0$, respectively. \n",
      "\n",
      "The key concepts for usting the vortex-source panel method with a multi-element airfoil are:\n",
      "\n",
      "1. each airfoil has its own vortex strength, and\n",
      "2. the trailing edge at each airfoil must follow the Kutta condition."
     ]
    },
    {
     "cell_type": "heading",
     "level": 2,
     "metadata": {},
     "source": [
      "Hints"
     ]
    },
    {
     "cell_type": "markdown",
     "metadata": {},
     "source": [
      "Recall the [exercise in Lesson 11](http://nbviewer.ipython.org/github/barbagroup/AeroPython/blob/master/lessons/11_Lesson11_Exercise.ipynb), which asks you to derive the mathematical formulation of the vortex-source panel method. \n",
      "\n",
      "Now, for the 2-element airfoil, you need to derive the required mathematical expressions, following the same process as in the exercise, starting from\n",
      "\n",
      "$$\n",
      "\\begin{split}\n",
      "\\phi(x, y) &= U_{\\infty}x\\cos\\alpha + U_{\\infty}y\\sin\\alpha \\\\\n",
      "& + \\int_{main\\ foil} \\frac{1}{2\\pi} \\sigma(s) ln \\sqrt{(x-\\xi(s))^2+(y-\\eta(s))^2} ds  \\\\\n",
      "& + \\int_{flap\\ foil} \\frac{1}{2\\pi} \\sigma(s) ln \\sqrt{(x-\\xi(s))^2+(y-\\eta(s))^2} ds \\\\\n",
      "& + \\int_{main\\ foil} \\frac{1}{2\\pi} \\gamma(s) \\tan^{-1} \\frac{y-\\eta(s)}{\\xi-\\xi(s)} ds  \\\\\n",
      "& + \\int_{flap\\ foil} \\frac{1}{2\\pi} \\gamma(s) \\tan^{-1} \\frac{y-\\eta(s)}{\\xi-\\xi(s)} ds\n",
      "\\end{split}\n",
      "$$\n",
      "\n",
      "Assume the following:\n",
      "\n",
      "1. $\\sigma(s)$ is constant on each panel, \n",
      "2. $\\gamma(s)$ is constant on each airfoil, and\n",
      "3. the 1<sup>st</sup> to $N_a$<sup>th</sup> panels are on the main airfoil and the $(N_a+1)$<sup>th</sup> to $N$<sup>th</sup> panels are on the flap (where $N=N_a+N_b$, and $N_b$ is the number of panels on the flap).\n",
      "\n",
      "There will be $N+2$ unknowns, that is, $\\sigma_1\\cdots\\sigma_N$, $\\gamma_a$, and $\\gamma_b$. The values of $\\gamma_a$, and $\\gamma_b$ represent the vortex strengths on the main and flap airfoils, respectively.\n",
      "\n",
      "You should be able to obtain the following matrix forms of normal and tangential velocity on the $i$<sup>th</sup> panel:\n",
      "\n",
      "$$\n",
      "U^n_i = b^n_i + \n",
      "\\left[\\begin{smallmatrix}A^n_{i1}\\cdots A^n_{iN}\\end{smallmatrix}, \\sum_{j=1}^{N_a}B^n_{ij}, \\sum_{j=N_a+1}^{N}B^n_{ij}\\right]\n",
      "\\left[\\begin{smallmatrix}\\sigma_1 \\\\ \\vdots \\\\ \\sigma_N \\\\ \\gamma_a \\\\ \\gamma_b\\end{smallmatrix}\\right]\n",
      "$$\n",
      "\n",
      "$$\n",
      "U^t_i = b^t_i + \n",
      "\\left[\\begin{smallmatrix}A^t_{i1}\\cdots A^t_{iN}\\end{smallmatrix}, \\sum_{j=1}^{N_a}B^t_{ij}, \\sum_{j=N_a+1}^{N}B^t_{ij}\\right]\n",
      "\\left[\\begin{smallmatrix}\\sigma_1 \\\\ \\vdots \\\\ \\sigma_N \\\\ \\gamma_a \\\\ \\gamma_b\\end{smallmatrix}\\right]\n",
      "$$\n",
      "\n",
      "Using the non-penetration conditions on the $1$<sup>st</sup> to $N$<sup>th</sup> panels, you will have $N$ linear equations. To solve for the $N+2$ unknowns, the extra two linear equations you need are the Kutta conditions on the two airfoils:\n",
      "\n",
      "$$\n",
      "U^t_{1} = U^t_{N_a} \\\\\n",
      "U^t_{N_a+1} = U^t_{N}\n",
      "$$\n",
      "\n",
      "And you are ready to solve for potential flow around a 2D multi-component wing!"
     ]
    },
    {
     "cell_type": "heading",
     "level": 2,
     "metadata": {},
     "source": [
      "Questions"
     ]
    },
    {
     "cell_type": "markdown",
     "metadata": {},
     "source": [
      "Run your codes using 100 panels on both main and flap airfoils and answer the following numeric-value questions."
     ]
    },
    {
     "cell_type": "heading",
     "level": 3,
     "metadata": {},
     "source": [
      "Q1."
     ]
    },
    {
     "cell_type": "markdown",
     "metadata": {},
     "source": [
      "* What is the pressure coefficient on the $3$<sup>rd</sup> panel on the *main airfoil*?"
     ]
    },
    {
     "cell_type": "heading",
     "level": 3,
     "metadata": {},
     "source": [
      "Q2."
     ]
    },
    {
     "cell_type": "markdown",
     "metadata": {},
     "source": [
      "* What is the pressure coefficient on the $10$<sup>th</sup> panel on the *flap airfoil*?"
     ]
    },
    {
     "cell_type": "heading",
     "level": 3,
     "metadata": {},
     "source": [
      "Q3."
     ]
    },
    {
     "cell_type": "markdown",
     "metadata": {},
     "source": [
      "* What is the value of lift?\n",
      "\n",
      "**Hint:**  $L = - \\oint_{main\\ foil}p\\vec{n}\\cdot\\vec{j}dl- \\oint_{flap\\ foil}p\\vec{n}\\cdot\\vec{j}dl$)"
     ]
    },
    {
     "cell_type": "heading",
     "level": 3,
     "metadata": {},
     "source": [
      "Q4."
     ]
    },
    {
     "cell_type": "markdown",
     "metadata": {},
     "source": [
      "* What is the value of drag?  "
     ]
    },
    {
     "cell_type": "heading",
     "level": 3,
     "metadata": {},
     "source": [
      "Q5."
     ]
    },
    {
     "cell_type": "markdown",
     "metadata": {},
     "source": [
      "* Run the program again with 200 panels on both main and flap airfoils. What is the percentage of improvement of the absolute error?"
     ]
    },
    {
     "cell_type": "heading",
     "level": 2,
     "metadata": {},
     "source": [
      "Reference"
     ]
    },
    {
     "cell_type": "markdown",
     "metadata": {},
     "source": [
      "*  B. R. Williams (1973), *An Exact Test Case for the Plane Potential Flow About Two Adjacent Lifting Aerofoils*, Reports & Memoranda No. 3717, Aeronautical Research Council of the United Kingdom // [PDF at Cranfield University](http://naca.central.cranfield.ac.uk/reports/arc/rm/3717.pdf)"
     ]
    },
    {
     "cell_type": "heading",
     "level": 2,
     "metadata": {},
     "source": [
      "Problem 2 description"
     ]
    },
    {
     "cell_type": "markdown",
     "metadata": {},
     "source": [
      "You should now have a usable solver for 2-component airfoil. Next, change the target airfoil to a more realistic airfoil. There are some experimental results, done by Wenzinger (1938), on an NACA23012 airfoil with an NACA23012 external airfoil flap.\n",
      "\n",
      "The following shows the profile of this airfoil with zero flap angle:\n",
      "\n",
      "<center><img src=\"resources/NACA23012withFlap.png\"> </center>\n",
      "\n",
      "CSV files for this airfoil are `NACA23012_MainFoil.csv` and `NACA23012_FlapFoil.csv`. The number of panels are $150$ on each airfoil. \n",
      "\n",
      "Rotating center (hinge) of the flap is at $(1.03, -0.054)$ for the provided CSV files. Using coordination rotation, you can have different combinations with different flap angles.\n",
      "\n",
      "Try to use different flap angles and different angles of attack and compare to Wenzinger's experimental results. Note that the definition of the total lift coefficient is $L/(l_{main}+l_{flap})$, where $L$ is the lift force as what we used in the previous problem, and $l_{main}$ and $l_{flap}$ are the chord lengths of the two airfoils. ***Think about what the difference is between your results and the experimental data***."
     ]
    },
    {
     "cell_type": "heading",
     "level": 2,
     "metadata": {},
     "source": [
      "Questions"
     ]
    },
    {
     "cell_type": "heading",
     "level": 3,
     "metadata": {},
     "source": [
      "Q1."
     ]
    },
    {
     "cell_type": "markdown",
     "metadata": {},
     "source": [
      "* Use the [bisection method](http://en.wikipedia.org/wiki/Bisection_method) to determine the angle of attack, $\\alpha$, that will cause zero lift when the flap angle is $20$ degree. Round your answer to the second digit after the float point. (**HINT**: you can start the bisection method within the range $-14\\le\\alpha\\le14$.)"
     ]
    },
    {
     "cell_type": "heading",
     "level": 3,
     "metadata": {},
     "source": [
      "Q2."
     ]
    },
    {
     "cell_type": "markdown",
     "metadata": {},
     "source": [
      "* Use the [bisection method](http://en.wikipedia.org/wiki/Bisection_method) to determine the flap angle that will cause zero lift when the angle of attack, $\\alpha$, is $0$. Round your answer to the second digit after the float point."
     ]
    },
    {
     "cell_type": "code",
     "collapsed": false,
     "input": [],
     "language": "python",
     "metadata": {},
     "outputs": []
    },
    {
     "cell_type": "markdown",
     "metadata": {},
     "source": [
      "-----------------------------"
     ]
    },
    {
     "cell_type": "code",
     "collapsed": false,
     "input": [
      "from IPython.core.display import HTML\n",
      "def css_styling():\n",
      "    styles = open('../styles/custom.css', 'r').read()\n",
      "    return HTML(styles)\n",
      "css_styling()"
     ],
     "language": "python",
     "metadata": {},
     "outputs": [
      {
       "html": [
        "<link href='http://fonts.googleapis.com/css?family=Fenix' rel='stylesheet' type='text/css'>\n",
        "<link href='http://fonts.googleapis.com/css?family=Alegreya+Sans:100,300,400,500,700,800,900,100italic,300italic,400italic,500italic,700italic,800italic,900italic' rel='stylesheet' type='text/css'>\n",
        "<link href='http://fonts.googleapis.com/css?family=Source+Code+Pro:300,400' rel='stylesheet' type='text/css'>\n",
        "<style>\n",
        "\n",
        "@font-face {\n",
        "    font-family: \"Computer Modern\";\n",
        "    src: url('http://mirrors.ctan.org/fonts/cm-unicode/fonts/otf/cmunss.otf');\n",
        "}\n",
        "\n",
        "\n",
        "#notebook_panel { /* main background */\n",
        "    background: rgb(245,245,245);\n",
        "}\n",
        "\n",
        "div.cell { /* set cell width */\n",
        "    width: 750px;\n",
        "}\n",
        "\n",
        "div #notebook { /* centre the content */\n",
        "    background: #fff; /* white background for content */\n",
        "    width: 1000px;\n",
        "    margin: auto;\n",
        "    padding-left: 0em;\n",
        "}\n",
        "\n",
        "#notebook li { /* More space between bullet points */\n",
        "margin-top:0.8em;\n",
        "}\n",
        "\n",
        "/* draw border around running cells */\n",
        "div.cell.border-box-sizing.code_cell.running { \n",
        "    border: 1px solid #111;\n",
        "}\n",
        "\n",
        "/* Put a solid color box around each cell and its output, visually linking them*/\n",
        "div.cell.code_cell {\n",
        "    background-color: rgb(256,256,256); \n",
        "    border-radius: 0px; \n",
        "    padding: 0.5em;\n",
        "    margin-left:1em;\n",
        "    margin-top: 1em;\n",
        "}\n",
        "\n",
        "\n",
        "div.text_cell_render{\n",
        "    font-family: 'Alegreya Sans' sans-serif;\n",
        "    line-height: 140%;\n",
        "    font-size: 125%;\n",
        "    font-weight: 400;\n",
        "    width:600px;\n",
        "    margin-left:auto;\n",
        "    margin-right:auto;\n",
        "}\n",
        "\n",
        "/* Formatting for header cells */\n",
        ".text_cell_render h1 {\n",
        "    font-family: 'Alegreya Sans', sans-serif;\n",
        "    font-style:regular;\n",
        "    font-weight: 200;    \n",
        "    font-size: 50pt;\n",
        "    line-height: 100%;\n",
        "    color:#CD2305;\n",
        "    margin-bottom: 0.5em;\n",
        "    margin-top: 0.5em;\n",
        "    display: block;\n",
        "}\t\n",
        ".text_cell_render h2 {\n",
        "    font-family: 'Fenix', serif;\n",
        "    font-size: 22pt;\n",
        "    line-height: 100%;\n",
        "    margin-bottom: 0.1em;\n",
        "    margin-top: 0.3em;\n",
        "    display: block;\n",
        "}\t\n",
        "\n",
        ".text_cell_render h3 {\n",
        "    font-family: 'Fenix', serif;\n",
        "    margin-top:12px;\n",
        "\tfont-size: 16pt;\n",
        "    margin-bottom: 3px;\n",
        "    font-style: regular;\n",
        "}\n",
        "\n",
        ".text_cell_render h4 {    /*Use this for captions*/\n",
        "    font-family: 'Fenix', serif;\n",
        "    font-size: 2pt;\n",
        "    text-align: center;\n",
        "    margin-top: 0em;\n",
        "    margin-bottom: 2em;\n",
        "    font-style: regular;\n",
        "}\n",
        "\n",
        ".text_cell_render h5 {  /*Use this for small titles*/\n",
        "    font-family: 'Alegreya Sans', sans-serif;\n",
        "    font-weight: 300;\n",
        "    font-size: 16pt;\n",
        "    color: #CD2305;\n",
        "    font-style: italic;\n",
        "    margin-bottom: .5em;\n",
        "    margin-top: 0.5em;\n",
        "    display: block;\n",
        "}\n",
        "\n",
        ".text_cell_render h6 { /*use this for copyright note*/\n",
        "    font-family: 'Source Code Pro', sans-serif;\n",
        "    font-weight: 300;\n",
        "    font-size: 9pt;\n",
        "    line-height: 100%;\n",
        "    color: grey;\n",
        "    margin-bottom: 1px;\n",
        "    margin-top: 1px;\n",
        "}\n",
        "\n",
        "    .CodeMirror{\n",
        "            font-family: \"Source Code Pro\";\n",
        "\t\t\tfont-size: 90%;\n",
        "    }\n",
        "/*    .prompt{\n",
        "        display: None;\n",
        "    }*/\n",
        "\t\n",
        "    \n",
        "    .warning{\n",
        "        color: rgb( 240, 20, 20 )\n",
        "        }  \n",
        "</style>\n",
        "<script>\n",
        "    MathJax.Hub.Config({\n",
        "                        TeX: {\n",
        "                           extensions: [\"AMSmath.js\"], \n",
        "                           equationNumbers: { autoNumber: \"AMS\", useLabelIds: true}\n",
        "                           },\n",
        "                tex2jax: {\n",
        "                    inlineMath: [ ['$','$'], [\"\\\\(\",\"\\\\)\"] ],\n",
        "                    displayMath: [ ['$$','$$'], [\"\\\\[\",\"\\\\]\"] ]\n",
        "                },\n",
        "                displayAlign: 'center', // Change this to 'center' to center equations.\n",
        "                \"HTML-CSS\": {\n",
        "                    styles: {'.MathJax_Display': {\"margin\": 4}}\n",
        "                }\n",
        "        });\n",
        "</script>\n"
       ],
       "metadata": {},
       "output_type": "pyout",
       "prompt_number": 1,
       "text": [
        "<IPython.core.display.HTML at 0x1022a55d0>"
       ]
      }
     ],
     "prompt_number": 1
    }
   ],
   "metadata": {}
  }
 ]
}
